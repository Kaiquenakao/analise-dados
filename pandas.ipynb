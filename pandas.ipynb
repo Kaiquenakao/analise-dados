{
 "cells": [
  {
   "cell_type": "markdown",
   "id": "c23d145b",
   "metadata": {},
   "source": [
    "### Pandas\n",
    "\n",
    "Pandas fornece estrutura de dados e funções de alto nível projetadas para tornar intuitivo e flexível o trabalho com dados estruturados ou tabulares\n",
    "\n",
    "Pandas combina os conceitos de processamento de arrays do Numpy com os tipos de recurso de manipulação de dados encontrados em panilhas e bancos de dados relacionais (como SQL)\n",
    "\n",
    "DataFrame, uma estrutua de dados tabular baseada em colunas com rótulos (labes) tanto de linhas quanto de colunas, e as Series, um objeto de array unidimensional rotulado\n",
    "\n",
    "Consegue atender:\n",
    "* Funcionalidades de séries temporais integradas\n",
    "* Manipulação flexível de dados ausentes\n",
    "* Mesclagem"
   ]
  },
  {
   "cell_type": "code",
   "execution_count": 16,
   "id": "077f0f8e",
   "metadata": {},
   "outputs": [],
   "source": [
    "import pandas as pd\n",
    "import numpy as np"
   ]
  },
  {
   "cell_type": "code",
   "execution_count": 17,
   "id": "59063398",
   "metadata": {},
   "outputs": [
    {
     "data": {
      "text/plain": [
       "{'nome': ['kaique', 'armindo', 'teste'], 'idade': [11, 13, nan]}"
      ]
     },
     "execution_count": 17,
     "metadata": {},
     "output_type": "execute_result"
    }
   ],
   "source": [
    "dados = {\"nome\": [\"kaique\", \"armindo\", \"teste\"], \"idade\": [11, 13, np.nan]}\n",
    "dados"
   ]
  }
 ],
 "metadata": {
  "kernelspec": {
   "display_name": "Python 3 (ipykernel)",
   "language": "python",
   "name": "python3"
  },
  "language_info": {
   "codemirror_mode": {
    "name": "ipython",
    "version": 3
   },
   "file_extension": ".py",
   "mimetype": "text/x-python",
   "name": "python",
   "nbconvert_exporter": "python",
   "pygments_lexer": "ipython3",
   "version": "3.7.9"
  }
 },
 "nbformat": 4,
 "nbformat_minor": 5
}
