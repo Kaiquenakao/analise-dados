{
 "cells": [
  {
   "cell_type": "markdown",
   "id": "1e971eb6",
   "metadata": {},
   "source": [
    "### Numpy\n",
    "\n",
    "Abreviação de Numerical Python, é a base do processamento numérico em Python. Ele fornece o código aglutinador das estruturas de dados, dos algoritmos e da biblioteca necessário para maioria das aplicações científicas que envolvem dados numéricos em Python. O Numpy contém, entre outras coisas:\n",
    "* Objeto de array multidimensional **ndarray rápido** e eficiente\n",
    "* Funções para o processamento de todos os elementos de um array ou para a execução de operações matemáticas entre arrays\n",
    "* Ferramentas para a leitura e a gravação em disco de conunto de dados baseados em array\n",
    "* Operações de álgebra linear, transformadas em de Fourier e geração de números aleatórios\n",
    "* Uma API C madura para permitir que as extensões do Python e códigos nativos C ou C++ acessem estruturas de dados e recursos computacionais do Numpy\n",
    "\n",
    "\n",
    "Pandas fornece algumas funcionalidades mais específicas de domínios, como a manipulação de séries temporais, que não estão presentes no Numpy\n",
    "\n",
    "Uma das razões para o Numpy ser tão importante para computações numéricas em Python é por ter sido projetado visando a eficiência no trabalho com grandes arrays de dados. Existem várias razões para isso:\n",
    "* Internamente, o Numpy armazena os dados em um bloco de memória contíguo, separados de outros objetos Python internos, pode manipular essa memória sem nenhuma verificação de tipo ou outras sobrecargas\n",
    "* As operações do NumPy executam computações complexas em array inteiros sem a ncessidade dos loops for do Python, que podem ser lentos para sequências grandes. O NumPy é mais rápido do que o código Python comum porque seus algoritmos foram escritos em C evitam a sobrecarga presente no código interpretado comum do Python"
   ]
  },
  {
   "cell_type": "code",
   "execution_count": 2,
   "id": "050833e1",
   "metadata": {},
   "outputs": [],
   "source": [
    "import numpy as np"
   ]
  },
  {
   "cell_type": "code",
   "execution_count": 10,
   "id": "3e4fb92e",
   "metadata": {},
   "outputs": [],
   "source": [
    "arr = np.arange(1_000_000)"
   ]
  },
  {
   "cell_type": "code",
   "execution_count": 11,
   "id": "f925d5a8",
   "metadata": {},
   "outputs": [],
   "source": [
    "arr_python = list(range(1_000_000))"
   ]
  },
  {
   "cell_type": "code",
   "execution_count": 12,
   "id": "8f6e4308",
   "metadata": {},
   "outputs": [
    {
     "name": "stdout",
     "output_type": "stream",
     "text": [
      "1.28 ms ± 39.2 µs per loop (mean ± std. dev. of 7 runs, 1000 loops each)\n"
     ]
    }
   ],
   "source": [
    "%timeit arr2 = arr * 2"
   ]
  },
  {
   "cell_type": "code",
   "execution_count": 13,
   "id": "f669d769",
   "metadata": {},
   "outputs": [
    {
     "name": "stdout",
     "output_type": "stream",
     "text": [
      "62.3 ms ± 651 µs per loop (mean ± std. dev. of 7 runs, 10 loops each)\n"
     ]
    }
   ],
   "source": [
    "%timeit arr_python2 = [i * 2 for i in arr_python]"
   ]
  },
  {
   "cell_type": "code",
   "execution_count": null,
   "id": "7e03ffa4",
   "metadata": {},
   "outputs": [],
   "source": []
  }
 ],
 "metadata": {
  "kernelspec": {
   "display_name": "Python 3 (ipykernel)",
   "language": "python",
   "name": "python3"
  },
  "language_info": {
   "codemirror_mode": {
    "name": "ipython",
    "version": 3
   },
   "file_extension": ".py",
   "mimetype": "text/x-python",
   "name": "python",
   "nbconvert_exporter": "python",
   "pygments_lexer": "ipython3",
   "version": "3.7.9"
  }
 },
 "nbformat": 4,
 "nbformat_minor": 5
}
